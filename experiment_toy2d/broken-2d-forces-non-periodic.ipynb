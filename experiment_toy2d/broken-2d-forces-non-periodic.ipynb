{
 "cells": [
  {
   "cell_type": "code",
   "execution_count": 1,
   "metadata": {
    "pycharm": {
     "name": "#%%\n"
    }
   },
   "outputs": [],
   "source": [
    "%load_ext autoreload\n",
    "%autoreload 2"
   ]
  },
  {
   "cell_type": "code",
   "execution_count": 2,
   "metadata": {
    "pycharm": {
     "name": "#%%\n"
    }
   },
   "outputs": [
    {
     "name": "stdout",
     "output_type": "stream",
     "text": [
      "1.11.0\n"
     ]
    }
   ],
   "source": [
    "import numpy as np\n",
    "import torch\n",
    "import matplotlib.pyplot as plt\n",
    "import gc\n",
    "# del variables\n",
    "gc.collect()\n",
    "torch.cuda.empty_cache()\n",
    "print(torch.__version__)"
   ]
  },
  {
   "cell_type": "markdown",
   "metadata": {
    "pycharm": {
     "name": "#%% md\n"
    }
   },
   "source": [
    "#### Some helper"
   ]
  },
  {
   "cell_type": "code",
   "execution_count": 3,
   "metadata": {
    "pycharm": {
     "name": "#%%\n"
    }
   },
   "outputs": [],
   "source": [
    "class PeriodicBasis(torch.nn.Module):\n",
    "    \n",
    "    def forward(self, x):\n",
    "        return torch.cat([\n",
    "            (2 * np.pi * x).cos(),\n",
    "            (2 * np.pi * x).sin()\n",
    "        ], dim=-1)"
   ]
  },
  {
   "cell_type": "code",
   "execution_count": 4,
   "metadata": {
    "pycharm": {
     "name": "#%%\n"
    }
   },
   "outputs": [],
   "source": [
    "from bgflow import (\n",
    "    DenseNet,\n",
    "    \n",
    "    WrapCDFTransformerWithInverse,\n",
    "    GridInversion,\n",
    "    AffineSigmoidComponentInitGrid,\n",
    "    \n",
    "    MixtureCDFTransformer,\n",
    "\n",
    "    ConditionalBSplineTransformer_with_plot,\n",
    "    ConditionalSplineTransformer,\n",
    "    AffineSigmoidComponents,   \n",
    "    MoebiusComponents,\n",
    "    NonCompactAffineSigmoidComponents,\n",
    "    \n",
    "    SmoothRamp,\n",
    "    SmoothRampWithTrainableExponent,\n",
    "    BisectionRootFinder,\n",
    "    \n",
    "    ConstrainedBoundaryCDFTransformer,\n",
    "    \n",
    "    SequentialFlow,\n",
    "    CouplingFlow,\n",
    "    SplitFlow,\n",
    "    InverseFlow,\n",
    "    SwapFlow,\n",
    "    \n",
    ")\n",
    "\n",
    "from matplotlib.colors import LogNorm\n",
    "\n",
    "\n",
    "def plot_transformer_density(transformer, label, grid_size=100):\n",
    "    with torch.enable_grad():\n",
    "        ys = torch.linspace(0, 1, 100).view(-1, 1).requires_grad_(True)\n",
    "        xs = torch.zeros_like(ys)\n",
    "        ys_, dlogp_ = transformer(xs, ys)\n",
    "        computed_density = dlogp_.exp()\n",
    "        ad_density = torch.autograd.grad(ys_.sum(), ys, create_graph=True)[0]\n",
    "        \n",
    "        plt.figure(figsize=(10, 3))\n",
    "        plt.title(label)\n",
    "        plt.plot(ys.detach(), ys_.detach(), label=\"cdf\")\n",
    "        plt.plot(ys.detach(), computed_density.detach(), alpha=0.5, label=\"computed pdf\")\n",
    "        plt.plot(ys.detach(), ad_density.detach(), linestyle=\"--\", label=\"AD pdf\")\n",
    "        plt.legend()\n",
    "        \n",
    "def make_net(d_in, d_hidden, d_out, activation, periodic=False, init_weight=1):\n",
    "    return torch.nn.Sequential(\n",
    "        PeriodicBasis() if periodic else torch.nn.Identity(),\n",
    "        DenseNet([d_in * (2 if periodic else 1), d_hidden, d_hidden, d_out], activation, weight_scale=init_weight)\n",
    "    )\n",
    "\n",
    "def make_transformer(\n",
    "    d_in,\n",
    "    d_out,\n",
    "    d_hidden,\n",
    "    n_components,\n",
    "    transformer_type=\"spline\",\n",
    "    inverse=\"approx\",\n",
    "    periodic=False,\n",
    "    zero_boundary_left=False,\n",
    "    zero_boundary_right=False,\n",
    "    activation=torch.nn.SiLU(),\n",
    "    smoothness_type=\"type1\",\n",
    "    init_weight=1.,\n",
    "    min_density=1e-6,\n",
    "    verbose=False,\n",
    "    n_grid_inversion=10\n",
    "):\n",
    "    offset = 1 if not periodic else 0\n",
    "    if transformer_type == \"bspline\":\n",
    "        t = ConditionalBSplineTransformer_with_plot(\n",
    "        params_net=make_net(d_in, d_hidden, d_out * (n_components * 2 + 6*offset), activation, periodic=periodic, init_weight=init_weight),\n",
    "        is_circular=periodic\n",
    "        )\n",
    "    elif transformer_type == \"spline\":\n",
    "        t = ConditionalSplineTransformer(\n",
    "            params_net=make_net(d_in, d_hidden, d_out * (n_components * 3 + offset), activation, periodic=periodic, init_weight=init_weight),\n",
    "            is_circular=periodic\n",
    "        )\n",
    "    elif transformer_type == \"bump\":\n",
    "        t = MixtureCDFTransformer(\n",
    "                compute_weights=make_net(d_in, d_hidden, d_out * n_components, activation, periodic=periodic),\n",
    "                compute_components=AffineSigmoidComponents(\n",
    "                    conditional_ramp=SmoothRamp(\n",
    "                        compute_alpha=make_net(d_in, d_hidden, d_out * n_components, activation, periodic=periodic),\n",
    "                        unimodal=True,\n",
    "                        ramp_type=smoothness_type\n",
    "                    ),\n",
    "                    log_sigma_bound=torch.tensor(1.),\n",
    "                    compute_params=make_net(d_in, d_hidden, d_out * (3 * n_components), activation, periodic=periodic),\n",
    "                    min_density=torch.tensor(min_density),\n",
    "                    periodic=periodic,\n",
    "                    zero_boundary_left=zero_boundary_left,\n",
    "                    zero_boundary_right=zero_boundary_right\n",
    "\n",
    "                ),\n",
    "        )\n",
    "    elif transformer_type == \"sigmoid\":\n",
    "        t = MixtureCDFTransformer(\n",
    "                compute_weights=make_net(d_in, d_hidden, d_out * n_components, activation, periodic=periodic),\n",
    "                compute_components=NonCompactAffineSigmoidComponents(\n",
    "                    compute_params=make_net(d_in, d_hidden, d_out * n_components * 3, activation, periodic=periodic),\n",
    "                    domain=torch.tensor([0. - 1e-1, 1. + 1e-1])\n",
    "                )\n",
    "        )\n",
    "    elif transformer_type == \"moebius\":\n",
    "        t = MixtureCDFTransformer(\n",
    "                compute_weights=make_net(d_in, d_hidden, d_out * n_components, activation, periodic=periodic),\n",
    "                compute_components=MoebiusComponents(\n",
    "                    compute_params=make_net(d_in, d_hidden, d_out * n_components * 2, activation, periodic=periodic)\n",
    "                )\n",
    "        )        \n",
    "    else:\n",
    "        raise ValueError(f\"unknown transformer_type={transformer_type}\")        \n",
    "    if inverse==\"approx\":\n",
    "        return WrapCDFTransformerWithInverse(\n",
    "            transformer=t,        \n",
    "            oracle=GridInversion(\n",
    "                transformer=t,\n",
    "                compute_init_grid=lambda x,y: torch.linspace(0, 1, n_grid_inversion, device=y.device, dtype=y.dtype).view(-1, 1, 1).repeat(1, *y.shape),\n",
    "                verbose=verbose,\n",
    "                abs_tol=1e-6\n",
    "            )\n",
    "        )\n",
    "    elif inverse==\"exact\":\n",
    "        return t\n",
    "    else:\n",
    "        raise ValueError(f\"unknown inverse={inverse}\")\n",
    "\n",
    "\n",
    "def make_coupling_flow(transformer_factory):    \n",
    "    return SequentialFlow([\n",
    "        SplitFlow(1),\n",
    "        CouplingFlow(transformer_factory()),\n",
    "        SwapFlow(),\n",
    "        CouplingFlow(transformer_factory()),\n",
    "        SwapFlow(),\n",
    "        CouplingFlow(transformer_factory()),\n",
    "        SwapFlow(),\n",
    "        CouplingFlow(transformer_factory()),\n",
    "        SwapFlow(),\n",
    "        InverseFlow(SplitFlow(1))\n",
    "    ])\n"
   ]
  },
  {
   "cell_type": "code",
   "execution_count": 5,
   "metadata": {
    "pycharm": {
     "name": "#%%\n"
    }
   },
   "outputs": [],
   "source": [
    "def gauss(_r, r0, sigma):\n",
    "    return torch.exp(-(_r-r0)**2/(2*sigma**2))\n",
    "\n",
    "def potential(xs):\n",
    "    x, y = xs.T\n",
    "    x = 2*np.pi*x  - np.pi\n",
    "    y = 2*np.pi*y - np.pi\n",
    "    cx = 0.0\n",
    "    cy = 0.0\n",
    "    r = torch.sqrt((x-cx)**2 + (y-cy)**2)\n",
    "    sigma = 0.06\n",
    "    return -torch.log(\n",
    "        (\n",
    "        gauss(r, 1.0, sigma) \n",
    "        + \n",
    "        0.8 * gauss(r, 2.0, sigma) \n",
    "        +\n",
    "        0.6 * gauss(r, 1.5, sigma) \n",
    "        + \n",
    "        0.4 * gauss(r, 2.5, sigma)\n",
    "        )\n",
    "    )\n",
    "\n",
    "\n",
    "def train(flow, train_with_inverse=False, batch_size=1_000, learning_rate=5e-4, n_iters=4_000, print_interval=100, cuda=False):\n",
    "    data = np.load(\"2dsamples.npy\")\n",
    "    idxs = np.arange(len(data))\n",
    "    optim = torch.optim.Adam(flow.parameters(), lr=learning_rate)\n",
    "    for it in range(n_iters):\n",
    "        np.random.shuffle(idxs)\n",
    "        x = data[idxs[:batch_size]]\n",
    "        x = torch.FloatTensor(x) \n",
    "        if cuda:\n",
    "            x = x.cuda()\n",
    "        y, dlogp = flow(x, inverse=train_with_inverse)    \n",
    "        nll = -dlogp.mean()    \n",
    "        optim.zero_grad()\n",
    "        nll.backward()\n",
    "        optim.step()\n",
    "        if not it % print_interval:            \n",
    "            print(f\"it: {it}/{n_iters}, nll: {nll.item():.4}\", end=\"\\r\")\n",
    "\n",
    "def plot_forces(flow=None, energy=None, train_with_inverse=False, n_samples=100_000, norm=None, cuda=False, eps=0., save_as=None):\n",
    "    \n",
    "    grid_size_u = 100\n",
    "    \n",
    "    x1 = torch.linspace(0 - eps, 1 + eps, grid_size_u)\n",
    "    x2 = torch.linspace(0 - eps, 1 + eps, grid_size_u)\n",
    "    xsmeshu = torch.meshgrid(\n",
    "        x1,\n",
    "        x2\n",
    "    )\n",
    "    xsu = torch.stack(xsmeshu, dim=-1).view(-1, 2).clamp(1e-4, 1-1e-4)\n",
    "    xsu = xsu.requires_grad_(True)\n",
    "    \n",
    "    grid_size_f = 100\n",
    "    \n",
    "    x1 = torch.linspace(0 - eps, 1 + eps, grid_size_f)\n",
    "    x2 = torch.linspace(0 - eps, 1 + eps, grid_size_f)\n",
    "    xsmeshf = torch.meshgrid(\n",
    "        x1,\n",
    "        x2\n",
    "    )\n",
    "    xsf = torch.stack(xsmeshf, dim=-1).view(-1, 2).clamp(1e-4, 1-1e-4)\n",
    "    xsf = xsf.requires_grad_(True)\n",
    "    \n",
    "    data = np.load(\"2dsamples.npy\")\n",
    "    idxs = np.arange(len(data))\n",
    "    np.random.shuffle(idxs)\n",
    "    xsf = torch.FloatTensor(data).requires_grad_(True)[idxs[:5000]]\n",
    "    \n",
    "    if energy:\n",
    "        u = energy(xsu)\n",
    "        if cuda:\n",
    "            xs = xs.cuda()\n",
    "        fs = torch.autograd.grad(-energy(xsf).sum(), xsf)[0]\n",
    "    \n",
    "    if flow:\n",
    "\n",
    "        print(\"Computing force plot...\")\n",
    "        \n",
    "        ys, dlogp = flow(xsf, inverse=train_with_inverse)\n",
    "        fs = torch.autograd.grad(-dlogp.sum(), xsf)[0]\n",
    "        ys, dlogp = flow(xsu, inverse=train_with_inverse)\n",
    "        u = -dlogp\n",
    "\n",
    " \n",
    "    plt.figure(figsize=(6, 3))\n",
    "    plt.subplot(1, 2, 1)\n",
    "    plt.axis(\"off\")\n",
    "    u = u.cpu().detach().numpy().reshape(grid_size_u, grid_size_u)\n",
    "    plt.imshow(np.exp(-u).T, origin=\"lower\", aspect='auto', norm=norm)\n",
    "    plt.xticks([])\n",
    "    plt.yticks([])\n",
    "    \n",
    "    fnorm = fs.norm(dim=-1, keepdim=True)\n",
    "    \n",
    "    xsf = xsf.cpu().detach().numpy()\n",
    "    extent = [\n",
    "        np.min(xsf[:, 0]),\n",
    "        np.max(xsf[:, 0]),\n",
    "        np.min(xsf[:, 1]),\n",
    "        np.max(xsf[:, 1]),\n",
    "    ]\n",
    "    plt.xticks([])\n",
    "    plt.yticks([])\n",
    "    \n",
    "    plt.subplot(1, 2, 2)\n",
    "    Q = plt.quiver(xsf[:, 0], xsf[:, 1], fs[:, 0], fs[:, 1], scale_units='x', scale=10000)\n",
    "    \n",
    "    plt.xticks([])\n",
    "    plt.yticks([])\n",
    "    plt.tight_layout()\n",
    "\n",
    "\n",
    "    if save_as:\n",
    "        plt.savefig(f\"{save_as}.pdf\")"
   ]
  },
  {
   "cell_type": "code",
   "execution_count": null,
   "metadata": {
    "collapsed": false,
    "jupyter": {
     "outputs_hidden": false
    },
    "pycharm": {
     "name": "#%%\n"
    }
   },
   "outputs": [],
   "source": []
  },
  {
   "cell_type": "code",
   "execution_count": null,
   "metadata": {
    "collapsed": false,
    "jupyter": {
     "outputs_hidden": false
    },
    "pycharm": {
     "name": "#%%\n"
    }
   },
   "outputs": [],
   "source": []
  },
  {
   "cell_type": "code",
   "execution_count": 6,
   "metadata": {
    "pycharm": {
     "name": "#%%\n"
    },
    "tags": []
   },
   "outputs": [
    {
     "name": "stdout",
     "output_type": "stream",
     "text": [
      "processing bspline_nonperiodic\n",
      "it: 1300/8000, nll: -1.082\r"
     ]
    },
    {
     "ename": "KeyboardInterrupt",
     "evalue": "",
     "output_type": "error",
     "traceback": [
      "\u001b[0;31m---------------------------------------------------------------------------\u001b[0m",
      "\u001b[0;31mKeyboardInterrupt\u001b[0m                         Traceback (most recent call last)",
      "Input \u001b[0;32mIn [6]\u001b[0m, in \u001b[0;36m<cell line: 9>\u001b[0;34m()\u001b[0m\n\u001b[1;32m     31\u001b[0m \u001b[38;5;66;03m#torch.autograd.set_detect_anomaly(True)\u001b[39;00m\n\u001b[1;32m     32\u001b[0m \u001b[38;5;28;01mif\u001b[39;00m \u001b[38;5;129;01mnot\u001b[39;00m load:\n\u001b[0;32m---> 33\u001b[0m     \u001b[43mtrain\u001b[49m\u001b[43m(\u001b[49m\u001b[43mflow\u001b[49m\u001b[43m,\u001b[49m\u001b[43m \u001b[49m\u001b[43mcuda\u001b[49m\u001b[38;5;241;43m=\u001b[39;49m\u001b[38;5;28;43;01mTrue\u001b[39;49;00m\u001b[43m,\u001b[49m\u001b[43m \u001b[49m\u001b[43mtrain_with_inverse\u001b[49m\u001b[38;5;241;43m=\u001b[39;49m\u001b[38;5;28;43;01mFalse\u001b[39;49;00m\u001b[43m,\u001b[49m\u001b[43m \u001b[49m\u001b[43mn_iters\u001b[49m\u001b[38;5;241;43m=\u001b[39;49m\u001b[38;5;241;43m8000\u001b[39;49m\u001b[43m)\u001b[49m\n\u001b[1;32m     34\u001b[0m     torch\u001b[38;5;241m.\u001b[39msave(flow\u001b[38;5;241m.\u001b[39mstate_dict()    , \u001b[38;5;124mf\u001b[39m\u001b[38;5;124m\"\u001b[39m\u001b[38;5;132;01m{\u001b[39;00mttype\u001b[38;5;132;01m}\u001b[39;00m\u001b[38;5;124m_\u001b[39m\u001b[38;5;132;01m{\u001b[39;00mperiodic_string\u001b[38;5;132;01m}\u001b[39;00m\u001b[38;5;124m_flow.pt\u001b[39m\u001b[38;5;124m\"\u001b[39m)\n\u001b[1;32m     35\u001b[0m \u001b[38;5;28;01melse\u001b[39;00m:\n",
      "Input \u001b[0;32mIn [5]\u001b[0m, in \u001b[0;36mtrain\u001b[0;34m(flow, train_with_inverse, batch_size, learning_rate, n_iters, print_interval, cuda)\u001b[0m\n\u001b[1;32m     33\u001b[0m \u001b[38;5;28;01mif\u001b[39;00m cuda:\n\u001b[1;32m     34\u001b[0m     x \u001b[38;5;241m=\u001b[39m x\u001b[38;5;241m.\u001b[39mcuda()\n\u001b[0;32m---> 35\u001b[0m y, dlogp \u001b[38;5;241m=\u001b[39m \u001b[43mflow\u001b[49m\u001b[43m(\u001b[49m\u001b[43mx\u001b[49m\u001b[43m,\u001b[49m\u001b[43m \u001b[49m\u001b[43minverse\u001b[49m\u001b[38;5;241;43m=\u001b[39;49m\u001b[43mtrain_with_inverse\u001b[49m\u001b[43m)\u001b[49m    \n\u001b[1;32m     36\u001b[0m nll \u001b[38;5;241m=\u001b[39m \u001b[38;5;241m-\u001b[39mdlogp\u001b[38;5;241m.\u001b[39mmean()    \n\u001b[1;32m     37\u001b[0m optim\u001b[38;5;241m.\u001b[39mzero_grad()\n",
      "File \u001b[0;32m~/anaconda3/envs/B_spline_flows_codeopt/lib/python3.8/site-packages/torch/nn/modules/module.py:1110\u001b[0m, in \u001b[0;36mModule._call_impl\u001b[0;34m(self, *input, **kwargs)\u001b[0m\n\u001b[1;32m   1106\u001b[0m \u001b[38;5;66;03m# If we don't have any hooks, we want to skip the rest of the logic in\u001b[39;00m\n\u001b[1;32m   1107\u001b[0m \u001b[38;5;66;03m# this function, and just call forward.\u001b[39;00m\n\u001b[1;32m   1108\u001b[0m \u001b[38;5;28;01mif\u001b[39;00m \u001b[38;5;129;01mnot\u001b[39;00m (\u001b[38;5;28mself\u001b[39m\u001b[38;5;241m.\u001b[39m_backward_hooks \u001b[38;5;129;01mor\u001b[39;00m \u001b[38;5;28mself\u001b[39m\u001b[38;5;241m.\u001b[39m_forward_hooks \u001b[38;5;129;01mor\u001b[39;00m \u001b[38;5;28mself\u001b[39m\u001b[38;5;241m.\u001b[39m_forward_pre_hooks \u001b[38;5;129;01mor\u001b[39;00m _global_backward_hooks\n\u001b[1;32m   1109\u001b[0m         \u001b[38;5;129;01mor\u001b[39;00m _global_forward_hooks \u001b[38;5;129;01mor\u001b[39;00m _global_forward_pre_hooks):\n\u001b[0;32m-> 1110\u001b[0m     \u001b[38;5;28;01mreturn\u001b[39;00m \u001b[43mforward_call\u001b[49m\u001b[43m(\u001b[49m\u001b[38;5;241;43m*\u001b[39;49m\u001b[38;5;28;43minput\u001b[39;49m\u001b[43m,\u001b[49m\u001b[43m \u001b[49m\u001b[38;5;241;43m*\u001b[39;49m\u001b[38;5;241;43m*\u001b[39;49m\u001b[43mkwargs\u001b[49m\u001b[43m)\u001b[49m\n\u001b[1;32m   1111\u001b[0m \u001b[38;5;66;03m# Do not call functions when jit is used\u001b[39;00m\n\u001b[1;32m   1112\u001b[0m full_backward_hooks, non_full_backward_hooks \u001b[38;5;241m=\u001b[39m [], []\n",
      "File \u001b[0;32m~/ICL_SMH/Research/SmoothNFcopy0707_codeOpt/bgflow/bgflow/nn/flow/sequential.py:52\u001b[0m, in \u001b[0;36mSequentialFlow.forward\u001b[0;34m(self, inverse, *xs, **kwargs)\u001b[0m\n\u001b[1;32m     50\u001b[0m     blocks \u001b[38;5;241m=\u001b[39m \u001b[38;5;28mreversed\u001b[39m(blocks)\n\u001b[1;32m     51\u001b[0m \u001b[38;5;28;01mfor\u001b[39;00m block \u001b[38;5;129;01min\u001b[39;00m blocks:\n\u001b[0;32m---> 52\u001b[0m     \u001b[38;5;241m*\u001b[39mxs, ddlogp \u001b[38;5;241m=\u001b[39m \u001b[43mblock\u001b[49m\u001b[43m(\u001b[49m\u001b[38;5;241;43m*\u001b[39;49m\u001b[43mxs\u001b[49m\u001b[43m,\u001b[49m\u001b[43m \u001b[49m\u001b[43minverse\u001b[49m\u001b[38;5;241;43m=\u001b[39;49m\u001b[43minverse\u001b[49m\u001b[43m,\u001b[49m\u001b[43m \u001b[49m\u001b[38;5;241;43m*\u001b[39;49m\u001b[38;5;241;43m*\u001b[39;49m\u001b[43mkwargs\u001b[49m\u001b[43m)\u001b[49m\n\u001b[1;32m     53\u001b[0m     dlogp \u001b[38;5;241m+\u001b[39m\u001b[38;5;241m=\u001b[39m ddlogp\n\u001b[1;32m     54\u001b[0m \u001b[38;5;28;01mreturn\u001b[39;00m (\u001b[38;5;241m*\u001b[39mxs, dlogp)\n",
      "File \u001b[0;32m~/anaconda3/envs/B_spline_flows_codeopt/lib/python3.8/site-packages/torch/nn/modules/module.py:1110\u001b[0m, in \u001b[0;36mModule._call_impl\u001b[0;34m(self, *input, **kwargs)\u001b[0m\n\u001b[1;32m   1106\u001b[0m \u001b[38;5;66;03m# If we don't have any hooks, we want to skip the rest of the logic in\u001b[39;00m\n\u001b[1;32m   1107\u001b[0m \u001b[38;5;66;03m# this function, and just call forward.\u001b[39;00m\n\u001b[1;32m   1108\u001b[0m \u001b[38;5;28;01mif\u001b[39;00m \u001b[38;5;129;01mnot\u001b[39;00m (\u001b[38;5;28mself\u001b[39m\u001b[38;5;241m.\u001b[39m_backward_hooks \u001b[38;5;129;01mor\u001b[39;00m \u001b[38;5;28mself\u001b[39m\u001b[38;5;241m.\u001b[39m_forward_hooks \u001b[38;5;129;01mor\u001b[39;00m \u001b[38;5;28mself\u001b[39m\u001b[38;5;241m.\u001b[39m_forward_pre_hooks \u001b[38;5;129;01mor\u001b[39;00m _global_backward_hooks\n\u001b[1;32m   1109\u001b[0m         \u001b[38;5;129;01mor\u001b[39;00m _global_forward_hooks \u001b[38;5;129;01mor\u001b[39;00m _global_forward_pre_hooks):\n\u001b[0;32m-> 1110\u001b[0m     \u001b[38;5;28;01mreturn\u001b[39;00m \u001b[43mforward_call\u001b[49m\u001b[43m(\u001b[49m\u001b[38;5;241;43m*\u001b[39;49m\u001b[38;5;28;43minput\u001b[39;49m\u001b[43m,\u001b[49m\u001b[43m \u001b[49m\u001b[38;5;241;43m*\u001b[39;49m\u001b[38;5;241;43m*\u001b[39;49m\u001b[43mkwargs\u001b[49m\u001b[43m)\u001b[49m\n\u001b[1;32m   1111\u001b[0m \u001b[38;5;66;03m# Do not call functions when jit is used\u001b[39;00m\n\u001b[1;32m   1112\u001b[0m full_backward_hooks, non_full_backward_hooks \u001b[38;5;241m=\u001b[39m [], []\n",
      "File \u001b[0;32m~/ICL_SMH/Research/SmoothNFcopy0707_codeOpt/bgflow/bgflow/nn/flow/base.py:21\u001b[0m, in \u001b[0;36mFlow.forward\u001b[0;34m(self, inverse, *xs, **kwargs)\u001b[0m\n\u001b[1;32m     19\u001b[0m     \u001b[38;5;28;01mreturn\u001b[39;00m \u001b[38;5;28mself\u001b[39m\u001b[38;5;241m.\u001b[39m_inverse(\u001b[38;5;241m*\u001b[39mxs, \u001b[38;5;241m*\u001b[39m\u001b[38;5;241m*\u001b[39mkwargs)\n\u001b[1;32m     20\u001b[0m \u001b[38;5;28;01melse\u001b[39;00m:\n\u001b[0;32m---> 21\u001b[0m     \u001b[38;5;28;01mreturn\u001b[39;00m \u001b[38;5;28;43mself\u001b[39;49m\u001b[38;5;241;43m.\u001b[39;49m\u001b[43m_forward\u001b[49m\u001b[43m(\u001b[49m\u001b[38;5;241;43m*\u001b[39;49m\u001b[43mxs\u001b[49m\u001b[43m,\u001b[49m\u001b[43m \u001b[49m\u001b[38;5;241;43m*\u001b[39;49m\u001b[38;5;241;43m*\u001b[39;49m\u001b[43mkwargs\u001b[49m\u001b[43m)\u001b[49m\n",
      "File \u001b[0;32m~/ICL_SMH/Research/SmoothNFcopy0707_codeOpt/bgflow/bgflow/nn/flow/coupling.py:167\u001b[0m, in \u001b[0;36mCouplingFlow._forward\u001b[0;34m(self, *x, **kwargs)\u001b[0m\n\u001b[1;32m    165\u001b[0m cond_inputs \u001b[38;5;241m=\u001b[39m torch\u001b[38;5;241m.\u001b[39mcat([x[i] \u001b[38;5;28;01mfor\u001b[39;00m i \u001b[38;5;129;01min\u001b[39;00m \u001b[38;5;28mself\u001b[39m\u001b[38;5;241m.\u001b[39mcond_indices], dim\u001b[38;5;241m=\u001b[39m\u001b[38;5;28mself\u001b[39m\u001b[38;5;241m.\u001b[39mcat_dim)\n\u001b[1;32m    166\u001b[0m x \u001b[38;5;241m=\u001b[39m \u001b[38;5;28mlist\u001b[39m(x)\n\u001b[0;32m--> 167\u001b[0m y, dlogp \u001b[38;5;241m=\u001b[39m \u001b[38;5;28;43mself\u001b[39;49m\u001b[38;5;241;43m.\u001b[39;49m\u001b[43mtransformer\u001b[49m\u001b[38;5;241;43m.\u001b[39;49m\u001b[43mforward\u001b[49m\u001b[43m(\u001b[49m\u001b[43mcond_inputs\u001b[49m\u001b[43m,\u001b[49m\u001b[43m \u001b[49m\u001b[43minputs\u001b[49m\u001b[43m,\u001b[49m\u001b[43m \u001b[49m\u001b[38;5;241;43m*\u001b[39;49m\u001b[38;5;241;43m*\u001b[39;49m\u001b[43mkwargs\u001b[49m\u001b[43m)\u001b[49m\n\u001b[1;32m    168\u001b[0m y \u001b[38;5;241m=\u001b[39m torch\u001b[38;5;241m.\u001b[39msplit(y, input_lengths, \u001b[38;5;28mself\u001b[39m\u001b[38;5;241m.\u001b[39mcat_dim)\n\u001b[1;32m    169\u001b[0m \u001b[38;5;28;01mfor\u001b[39;00m i, yi \u001b[38;5;129;01min\u001b[39;00m \u001b[38;5;28mzip\u001b[39m(\u001b[38;5;28mself\u001b[39m\u001b[38;5;241m.\u001b[39mtransformed_indices, y):\n",
      "File \u001b[0;32m~/ICL_SMH/Research/SmoothNFcopy0707_codeOpt/bgflow/bgflow/nn/flow/base.py:21\u001b[0m, in \u001b[0;36mFlow.forward\u001b[0;34m(self, inverse, *xs, **kwargs)\u001b[0m\n\u001b[1;32m     19\u001b[0m     \u001b[38;5;28;01mreturn\u001b[39;00m \u001b[38;5;28mself\u001b[39m\u001b[38;5;241m.\u001b[39m_inverse(\u001b[38;5;241m*\u001b[39mxs, \u001b[38;5;241m*\u001b[39m\u001b[38;5;241m*\u001b[39mkwargs)\n\u001b[1;32m     20\u001b[0m \u001b[38;5;28;01melse\u001b[39;00m:\n\u001b[0;32m---> 21\u001b[0m     \u001b[38;5;28;01mreturn\u001b[39;00m \u001b[38;5;28;43mself\u001b[39;49m\u001b[38;5;241;43m.\u001b[39;49m\u001b[43m_forward\u001b[49m\u001b[43m(\u001b[49m\u001b[38;5;241;43m*\u001b[39;49m\u001b[43mxs\u001b[49m\u001b[43m,\u001b[49m\u001b[43m \u001b[49m\u001b[38;5;241;43m*\u001b[39;49m\u001b[38;5;241;43m*\u001b[39;49m\u001b[43mkwargs\u001b[49m\u001b[43m)\u001b[49m\n",
      "File \u001b[0;32m~/ICL_SMH/Research/SmoothNFcopy0707_codeOpt/bgflow/bgflow/nn/flow/root_finding/approx_inverse.py:235\u001b[0m, in \u001b[0;36mWrapCDFTransformerWithInverse._forward\u001b[0;34m(self, *args, **kwargs)\u001b[0m\n\u001b[1;32m    234\u001b[0m \u001b[38;5;28;01mdef\u001b[39;00m \u001b[38;5;21m_forward\u001b[39m(\u001b[38;5;28mself\u001b[39m, \u001b[38;5;241m*\u001b[39margs, \u001b[38;5;241m*\u001b[39m\u001b[38;5;241m*\u001b[39mkwargs):\n\u001b[0;32m--> 235\u001b[0m     \u001b[38;5;28;01mreturn\u001b[39;00m \u001b[38;5;28;43mself\u001b[39;49m\u001b[38;5;241;43m.\u001b[39;49m\u001b[43m_transformer\u001b[49m\u001b[43m(\u001b[49m\u001b[38;5;241;43m*\u001b[39;49m\u001b[43margs\u001b[49m\u001b[43m,\u001b[49m\u001b[43m \u001b[49m\u001b[38;5;241;43m*\u001b[39;49m\u001b[38;5;241;43m*\u001b[39;49m\u001b[43mkwargs\u001b[49m\u001b[43m)\u001b[49m\n",
      "File \u001b[0;32m~/anaconda3/envs/B_spline_flows_codeopt/lib/python3.8/site-packages/torch/nn/modules/module.py:1110\u001b[0m, in \u001b[0;36mModule._call_impl\u001b[0;34m(self, *input, **kwargs)\u001b[0m\n\u001b[1;32m   1106\u001b[0m \u001b[38;5;66;03m# If we don't have any hooks, we want to skip the rest of the logic in\u001b[39;00m\n\u001b[1;32m   1107\u001b[0m \u001b[38;5;66;03m# this function, and just call forward.\u001b[39;00m\n\u001b[1;32m   1108\u001b[0m \u001b[38;5;28;01mif\u001b[39;00m \u001b[38;5;129;01mnot\u001b[39;00m (\u001b[38;5;28mself\u001b[39m\u001b[38;5;241m.\u001b[39m_backward_hooks \u001b[38;5;129;01mor\u001b[39;00m \u001b[38;5;28mself\u001b[39m\u001b[38;5;241m.\u001b[39m_forward_hooks \u001b[38;5;129;01mor\u001b[39;00m \u001b[38;5;28mself\u001b[39m\u001b[38;5;241m.\u001b[39m_forward_pre_hooks \u001b[38;5;129;01mor\u001b[39;00m _global_backward_hooks\n\u001b[1;32m   1109\u001b[0m         \u001b[38;5;129;01mor\u001b[39;00m _global_forward_hooks \u001b[38;5;129;01mor\u001b[39;00m _global_forward_pre_hooks):\n\u001b[0;32m-> 1110\u001b[0m     \u001b[38;5;28;01mreturn\u001b[39;00m \u001b[43mforward_call\u001b[49m\u001b[43m(\u001b[49m\u001b[38;5;241;43m*\u001b[39;49m\u001b[38;5;28;43minput\u001b[39;49m\u001b[43m,\u001b[49m\u001b[43m \u001b[49m\u001b[38;5;241;43m*\u001b[39;49m\u001b[38;5;241;43m*\u001b[39;49m\u001b[43mkwargs\u001b[49m\u001b[43m)\u001b[49m\n\u001b[1;32m   1111\u001b[0m \u001b[38;5;66;03m# Do not call functions when jit is used\u001b[39;00m\n\u001b[1;32m   1112\u001b[0m full_backward_hooks, non_full_backward_hooks \u001b[38;5;241m=\u001b[39m [], []\n",
      "File \u001b[0;32m~/ICL_SMH/Research/SmoothNFcopy0707_codeOpt/bgflow/bgflow/nn/flow/base.py:21\u001b[0m, in \u001b[0;36mFlow.forward\u001b[0;34m(self, inverse, *xs, **kwargs)\u001b[0m\n\u001b[1;32m     19\u001b[0m     \u001b[38;5;28;01mreturn\u001b[39;00m \u001b[38;5;28mself\u001b[39m\u001b[38;5;241m.\u001b[39m_inverse(\u001b[38;5;241m*\u001b[39mxs, \u001b[38;5;241m*\u001b[39m\u001b[38;5;241m*\u001b[39mkwargs)\n\u001b[1;32m     20\u001b[0m \u001b[38;5;28;01melse\u001b[39;00m:\n\u001b[0;32m---> 21\u001b[0m     \u001b[38;5;28;01mreturn\u001b[39;00m \u001b[38;5;28;43mself\u001b[39;49m\u001b[38;5;241;43m.\u001b[39;49m\u001b[43m_forward\u001b[49m\u001b[43m(\u001b[49m\u001b[38;5;241;43m*\u001b[39;49m\u001b[43mxs\u001b[49m\u001b[43m,\u001b[49m\u001b[43m \u001b[49m\u001b[38;5;241;43m*\u001b[39;49m\u001b[38;5;241;43m*\u001b[39;49m\u001b[43mkwargs\u001b[49m\u001b[43m)\u001b[49m\n",
      "File \u001b[0;32m~/ICL_SMH/Research/SmoothNFcopy0707_codeOpt/bgflow/bgflow/nn/flow/transformer/bspline_with_plot.py:128\u001b[0m, in \u001b[0;36mConditionalBSplineTransformer_with_plot._forward\u001b[0;34m(self, x, y, elementwise_jacobian, *args, **kwargs)\u001b[0m\n\u001b[1;32m    125\u001b[0m \u001b[38;5;28;01mdef\u001b[39;00m \u001b[38;5;21m_forward\u001b[39m(\u001b[38;5;28mself\u001b[39m, x, y, \u001b[38;5;241m*\u001b[39margs, elementwise_jacobian\u001b[38;5;241m=\u001b[39m\u001b[38;5;28;01mFalse\u001b[39;00m, \u001b[38;5;241m*\u001b[39m\u001b[38;5;241m*\u001b[39mkwargs):\n\u001b[1;32m    127\u001b[0m     pieces,widths \u001b[38;5;241m=\u001b[39m \u001b[38;5;28mself\u001b[39m\u001b[38;5;241m.\u001b[39m_compute_params(x, y\u001b[38;5;241m.\u001b[39mshape[\u001b[38;5;241m-\u001b[39m\u001b[38;5;241m1\u001b[39m])\n\u001b[0;32m--> 128\u001b[0m     z, dlogp \u001b[38;5;241m=\u001b[39m \u001b[43mcubic_B_spline_with_plot\u001b[49m\u001b[43m(\u001b[49m\n\u001b[1;32m    129\u001b[0m \u001b[43m        \u001b[49m\u001b[43my\u001b[49m\u001b[43m,\u001b[49m\n\u001b[1;32m    130\u001b[0m \u001b[43m        \u001b[49m\u001b[43mpieces\u001b[49m\u001b[43m,\u001b[49m\n\u001b[1;32m    131\u001b[0m \u001b[43m        \u001b[49m\u001b[43mwidths\u001b[49m\u001b[43m,\u001b[49m\n\u001b[1;32m    132\u001b[0m \u001b[43m        \u001b[49m\u001b[43minverse\u001b[49m\u001b[38;5;241;43m=\u001b[39;49m\u001b[38;5;28;43;01mTrue\u001b[39;49;00m\u001b[43m,\u001b[49m\u001b[43m \u001b[49m\u001b[38;5;66;43;03m# ?? why this was True in SNF\u001b[39;49;00m\n\u001b[1;32m    133\u001b[0m \u001b[43m        \u001b[49m\u001b[43mleft\u001b[49m\u001b[38;5;241;43m=\u001b[39;49m\u001b[38;5;28;43mself\u001b[39;49m\u001b[38;5;241;43m.\u001b[39;49m\u001b[43m_left\u001b[49m\u001b[43m,\u001b[49m\n\u001b[1;32m    134\u001b[0m \u001b[43m        \u001b[49m\u001b[43mright\u001b[49m\u001b[38;5;241;43m=\u001b[39;49m\u001b[38;5;28;43mself\u001b[39;49m\u001b[38;5;241;43m.\u001b[39;49m\u001b[43m_right\u001b[49m\u001b[43m,\u001b[49m\n\u001b[1;32m    135\u001b[0m \u001b[43m        \u001b[49m\u001b[43mtop\u001b[49m\u001b[38;5;241;43m=\u001b[39;49m\u001b[38;5;28;43mself\u001b[39;49m\u001b[38;5;241;43m.\u001b[39;49m\u001b[43m_top\u001b[49m\u001b[43m,\u001b[49m\n\u001b[1;32m    136\u001b[0m \u001b[43m        \u001b[49m\u001b[43mbottom\u001b[49m\u001b[38;5;241;43m=\u001b[39;49m\u001b[38;5;28;43mself\u001b[39;49m\u001b[38;5;241;43m.\u001b[39;49m\u001b[43m_bottom\u001b[49m\u001b[43m,\u001b[49m\n\u001b[1;32m    137\u001b[0m \u001b[43m    \u001b[49m\u001b[43m)\u001b[49m\n\u001b[1;32m    138\u001b[0m     \u001b[38;5;28;01mif\u001b[39;00m \u001b[38;5;129;01mnot\u001b[39;00m elementwise_jacobian:\n\u001b[1;32m    139\u001b[0m         dlogp \u001b[38;5;241m=\u001b[39m dlogp\u001b[38;5;241m.\u001b[39msum(dim\u001b[38;5;241m=\u001b[39m\u001b[38;5;241m-\u001b[39m\u001b[38;5;241m1\u001b[39m, keepdim\u001b[38;5;241m=\u001b[39m\u001b[38;5;28;01mTrue\u001b[39;00m)\n",
      "File \u001b[0;32m~/ICL_SMH/Research/SmoothNFcopy0707_codeOpt/bgflow/bgflow/nn/flow/transformer/bspline_with_plot.py:1011\u001b[0m, in \u001b[0;36mcubic_B_spline_with_plot\u001b[0;34m(inputs, unnormalized_var1, unnormalized_widths, inverse, left, right, bottom, top, min_bin_width, min_bin_height)\u001b[0m\n\u001b[1;32m   1009\u001b[0m knots \u001b[38;5;241m=\u001b[39m F\u001b[38;5;241m.\u001b[39mpad(knots, pad\u001b[38;5;241m=\u001b[39m(\u001b[38;5;241m0\u001b[39m,\u001b[38;5;241m1\u001b[39m),mode\u001b[38;5;241m=\u001b[39m\u001b[38;5;124m'\u001b[39m\u001b[38;5;124mconstant\u001b[39m\u001b[38;5;124m'\u001b[39m, value\u001b[38;5;241m=\u001b[39m\u001b[38;5;241m1.\u001b[39m)\n\u001b[1;32m   1010\u001b[0m knots \u001b[38;5;241m=\u001b[39m F\u001b[38;5;241m.\u001b[39mpad(knots, pad\u001b[38;5;241m=\u001b[39m(\u001b[38;5;241m0\u001b[39m,\u001b[38;5;241m1\u001b[39m),mode\u001b[38;5;241m=\u001b[39m\u001b[38;5;124m'\u001b[39m\u001b[38;5;124mconstant\u001b[39m\u001b[38;5;124m'\u001b[39m, value\u001b[38;5;241m=\u001b[39m\u001b[38;5;241m0.\u001b[39m)\n\u001b[0;32m-> 1011\u001b[0m knots \u001b[38;5;241m=\u001b[39m a_coeff[\u001b[38;5;241m.\u001b[39m\u001b[38;5;241m.\u001b[39m\u001b[38;5;241m.\u001b[39m,\u001b[38;5;28;01mNone\u001b[39;00m] \u001b[38;5;241m*\u001b[39m knots \u001b[38;5;241m+\u001b[39m \u001b[43mb_coeff\u001b[49m\u001b[43m[\u001b[49m\u001b[38;5;241;43m.\u001b[39;49m\u001b[38;5;241;43m.\u001b[39;49m\u001b[38;5;241;43m.\u001b[39;49m\u001b[43m,\u001b[49m\u001b[38;5;28;43;01mNone\u001b[39;49;00m\u001b[43m]\u001b[49m\n\u001b[1;32m   1013\u001b[0m knots \u001b[38;5;241m=\u001b[39m torch\u001b[38;5;241m.\u001b[39mroll(knots, shifts\u001b[38;5;241m=\u001b[39m\u001b[38;5;241m-\u001b[39m\u001b[38;5;241m2\u001b[39m, dims\u001b[38;5;241m=\u001b[39m\u001b[38;5;241m-\u001b[39m\u001b[38;5;241m1\u001b[39m)\n\u001b[1;32m   1014\u001b[0m knots3 \u001b[38;5;241m=\u001b[39m torch\u001b[38;5;241m.\u001b[39mroll(knots, shifts\u001b[38;5;241m=\u001b[39m\u001b[38;5;241m3\u001b[39m, dims\u001b[38;5;241m=\u001b[39m\u001b[38;5;241m-\u001b[39m\u001b[38;5;241m1\u001b[39m)\n",
      "\u001b[0;31mKeyboardInterrupt\u001b[0m: "
     ]
    },
    {
     "data": {
      "image/png": "[encoded data removed]",
      "text/plain": [
       "<Figure size 432x288 with 1 Axes>"
      ]
     },
     "metadata": {
      "needs_background": "light"
     },
     "output_type": "display_data"
    }
   ],
   "source": [
    "from functools import partial\n",
    "\n",
    "is_periodic = False\n",
    "load = False\n",
    "\n",
    "from matplotlib.colors import PowerNorm\n",
    "norm=None\n",
    "\n",
    "for ttype in [\"bspline\",\"bump\",\"spline\"]:\n",
    "\n",
    "    if is_periodic and ttype == \"sigmoid\":\n",
    "        continue\n",
    "    if not is_periodic and ttype == \"moebius\":\n",
    "        continue\n",
    "\n",
    "    if ttype == \"moebius\":\n",
    "        periodic = True\n",
    "    if ttype == \"sigmoid\":\n",
    "        periodic = False\n",
    "    else:\n",
    "        periodic = is_periodic\n",
    "\n",
    "    periodic_string = \"periodic\" if periodic else \"nonperiodic\"\n",
    "    eps = 0. if periodic else 0.\n",
    "\n",
    "    print(f\"processing {ttype}_{periodic_string}\")\n",
    "\n",
    "    flow = make_coupling_flow(partial(make_transformer, d_in=1, d_out=1, d_hidden=100, n_components=32, periodic=periodic, verbose=False, transformer_type=ttype))\n",
    "    flow = flow.cuda()\n",
    "\n",
    "    #torch.autograd.set_detect_anomaly(True)\n",
    "    if not load:\n",
    "        train(flow, cuda=True, train_with_inverse=False, n_iters=8000)\n",
    "        torch.save(flow.state_dict()    , f\"{ttype}_{periodic_string}_flow.pt\")\n",
    "    else:\n",
    "        state_dict = torch.load(f\"{ttype}_{periodic_string}_flow.pt\")\n",
    "        flow.load_state_dict(state_dict)\n",
    "\n",
    "    flow = flow.cpu()\n",
    "    plot_forces(flow, energy=potential, cuda=False, save_as=f\"{ttype}_{periodic_string}\", eps=eps, norm=norm)"
   ]
  },
  {
   "cell_type": "code",
   "execution_count": null,
   "metadata": {
    "collapsed": false,
    "jupyter": {
     "outputs_hidden": false
    },
    "pycharm": {
     "name": "#%%\n"
    }
   },
   "outputs": [],
   "source": [
    "plot_forces(energy=potential, cuda=False, save_as=f\"ground_truth\", eps=0, norm=norm)"
   ]
  },
  {
   "cell_type": "code",
   "execution_count": null,
   "metadata": {
    "collapsed": false,
    "jupyter": {
     "outputs_hidden": false
    },
    "pycharm": {
     "name": "#%%\n"
    }
   },
   "outputs": [],
   "source": [
    "plot_forces(flow, energy=potential, cuda=False, save_as=f\"{ttype}_{periodic_string}\", eps=eps, norm=norm)"
   ]
  },
  {
   "cell_type": "markdown",
   "metadata": {
    "pycharm": {
     "name": "#%% md\n"
    }
   },
   "source": []
  }
 ],
 "metadata": {
  "kernelspec": {
   "display_name": "Python 3 (ipykernel)",
   "language": "python",
   "name": "python3"
  },
  "language_info": {
   "codemirror_mode": {
    "name": "ipython",
    "version": 3
   },
   "file_extension": ".py",
   "mimetype": "text/x-python",
   "name": "python",
   "nbconvert_exporter": "python",
   "pygments_lexer": "ipython3",
   "version": "3.8.13"
  }
 },
 "nbformat": 4,
 "nbformat_minor": 4
}
