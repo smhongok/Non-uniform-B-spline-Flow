{
 "cells": [
  {
   "cell_type": "markdown",
   "id": "2cb999d9",
   "metadata": {
    "pycharm": {
     "name": "#%% md\n"
    }
   },
   "source": [
    "# Check Energy Conservation when Simulating with Flows"
   ]
  },
  {
   "cell_type": "code",
   "execution_count": 1,
   "id": "05022eb3",
   "metadata": {
    "pycharm": {
     "name": "#%%\n"
    }
   },
   "outputs": [],
   "source": [
    "%load_ext autoreload\n",
    "%autoreload 2"
   ]
  },
  {
   "cell_type": "code",
   "execution_count": 2,
   "id": "bc40cdf0",
   "metadata": {
    "pycharm": {
     "name": "#%%\n"
    }
   },
   "outputs": [],
   "source": [
    "import torch"
   ]
  },
  {
   "cell_type": "markdown",
   "id": "0f59294d",
   "metadata": {
    "pycharm": {
     "name": "#%% md\n"
    }
   },
   "source": [
    "## Read Model"
   ]
  },
  {
   "cell_type": "code",
   "execution_count": 3,
   "id": "2b94dc4f",
   "metadata": {
    "pycharm": {
     "name": "#%%\n"
    }
   },
   "outputs": [],
   "source": [
    "CHECKPOINT = \"logs/a2_1/Bspline+FM/version_0/checkpoints/epoch=9-step=70320.ckpt\""
   ]
  },
  {
   "cell_type": "code",
   "execution_count": 4,
   "id": "738893fd",
   "metadata": {
    "pycharm": {
     "name": "#%%\n"
    }
   },
   "outputs": [
    {
     "name": "stderr",
     "output_type": "stream",
     "text": [
      "/srv/public/kraemea88/software/anaconda3/envs/smooth_normalizing_flows/lib/python3.9/site-packages/bgflow-0.0.0-py3.9.egg/bgflow/distribution/energy/openmm.py:215: UserWarning: It looks like you are using an OpenMMBridge with multiple workers in an ipython environment. This can behave a bit silly upon KeyboardInterrupt (e.g., kill the stdout stream). If you experience any issues, consider initializing the bridge with n_workers=1 in ipython/jupyter.\n"
     ]
    }
   ],
   "source": [
    "\n",
    "from bgforces.ala2 import Ala2Generator\n",
    "\n",
    "loaded = Ala2Generator.load_from_checkpoint(\n",
    "    CHECKPOINT\n",
    ")"
   ]
  },
  {
   "cell_type": "markdown",
   "id": "ec592c2f",
   "metadata": {
    "pycharm": {
     "name": "#%% md\n"
    }
   },
   "source": [
    "## Read Dataset"
   ]
  },
  {
   "cell_type": "code",
   "execution_count": 5,
   "id": "89cd8f78",
   "metadata": {
    "pycharm": {
     "name": "#%%\n"
    }
   },
   "outputs": [],
   "source": [
    "from bgforces.ala2 import Ala2Data\n",
    "data = Ala2Data(batch_size=128, slice=1)\n",
    "data.prepare_data()\n",
    "data.setup()"
   ]
  },
  {
   "cell_type": "markdown",
   "id": "7c129e07",
   "metadata": {
    "pycharm": {
     "name": "#%% md\n"
    }
   },
   "source": [
    "### Extract Masses and Initial Positions"
   ]
  },
  {
   "cell_type": "code",
   "execution_count": 6,
   "id": "43daa457",
   "metadata": {
    "pycharm": {
     "name": "#%%\n"
    }
   },
   "outputs": [],
   "source": [
    "from simtk.unit import amu\n",
    "masses = []\n",
    "\n",
    "for atom in data.dataset.system.topology.atoms():\n",
    "    masses.append(atom.element.mass.value_in_unit(amu))\n",
    "\n",
    "masses = torch.tensor(masses)"
   ]
  },
  {
   "cell_type": "code",
   "execution_count": 7,
   "id": "51924394",
   "metadata": {
    "pycharm": {
     "name": "#%%\n"
    }
   },
   "outputs": [
    {
     "data": {
      "text/plain": [
       "(torch.Size([10, 22, 3]), torch.Size([22]))"
      ]
     },
     "execution_count": 7,
     "metadata": {},
     "output_type": "execute_result"
    }
   ],
   "source": [
    "x0=torch.tensor(data.dataset.xyz[:10])\n",
    "x0.shape, masses.shape\n",
    "# flow_potential.force(x0)"
   ]
  },
  {
   "cell_type": "markdown",
   "id": "433c6d17",
   "metadata": {
    "pycharm": {
     "name": "#%% md\n"
    }
   },
   "source": [
    "## Define Model as the Potential for the Simulation"
   ]
  },
  {
   "cell_type": "code",
   "execution_count": 8,
   "id": "b8db9932",
   "metadata": {
    "pycharm": {
     "name": "#%%\n"
    }
   },
   "outputs": [],
   "source": [
    "from bgforces.util import FlowPotentialWrapper\n",
    "potential = FlowPotentialWrapper(loaded.model, data.dataset.temperature)"
   ]
  },
  {
   "cell_type": "code",
   "execution_count": 9,
   "id": "54254bb2",
   "metadata": {
    "pycharm": {
     "name": "#%%\n"
    }
   },
   "outputs": [],
   "source": [
    "# -- untoggle this to simulate with the ground truth potential instead --\n",
    "#potential = FlowPotentialWrapper(\n",
    "#    data.dataset.system.energy_model, \n",
    "#    data.dataset.temperature\n",
    "#)\n"
   ]
  },
  {
   "cell_type": "markdown",
   "id": "e0f5f915",
   "metadata": {
    "pycharm": {
     "name": "#%% md\n"
    }
   },
   "source": [
    "## NVT Equilibration"
   ]
  },
  {
   "cell_type": "code",
   "execution_count": 10,
   "id": "e67955e3",
   "metadata": {
    "pycharm": {
     "name": "#%%\n"
    }
   },
   "outputs": [],
   "source": [
    "from bgforces.util import VerletIntegrator, Simulation, LangevinIntegrator\n",
    "npt_integrator = LangevinIntegrator(potential, 0.001, masses=masses, temperature=300.)\n",
    "npt_simulation = Simulation(potential, npt_integrator, x0=torch.tensor(data.dataset.xyz[:10]), temperature=data.dataset.temperature)"
   ]
  },
  {
   "cell_type": "code",
   "execution_count": 11,
   "id": "e8452777",
   "metadata": {
    "pycharm": {
     "name": "#%%\n"
    }
   },
   "outputs": [],
   "source": [
    "npt_simulation.step(1000)"
   ]
  },
  {
   "cell_type": "markdown",
   "id": "5647b4bf",
   "metadata": {
    "pycharm": {
     "name": "#%% md\n"
    }
   },
   "source": [
    "## NVE Simulation"
   ]
  },
  {
   "cell_type": "code",
   "execution_count": 12,
   "id": "236cfc3e",
   "metadata": {
    "pycharm": {
     "name": "#%%\n"
    }
   },
   "outputs": [],
   "source": [
    "nve_integrator = VerletIntegrator(potential, 0.001, masses=masses)\n",
    "nve_simulation = Simulation(\n",
    "    potential, \n",
    "    nve_integrator,\n",
    "    x0=npt_simulation.x,\n",
    "    v0=npt_simulation.v\n",
    ")"
   ]
  },
  {
   "cell_type": "code",
   "execution_count": 13,
   "id": "85ff27eb",
   "metadata": {
    "pycharm": {
     "name": "#%%\n"
    }
   },
   "outputs": [],
   "source": [
    "nve_simulation.step(5000)"
   ]
  },
  {
   "cell_type": "code",
   "execution_count": 14,
   "id": "7cbff190",
   "metadata": {
    "pycharm": {
     "name": "#%%\n"
    }
   },
   "outputs": [
    {
     "data": {
      "text/plain": [
       "0.001"
      ]
     },
     "execution_count": 14,
     "metadata": {},
     "output_type": "execute_result"
    }
   ],
   "source": [
    "nve_simulation.integrator.time_step"
   ]
  },
  {
   "cell_type": "code",
   "execution_count": 15,
   "id": "ff8f2b65",
   "metadata": {
    "pycharm": {
     "name": "#%%\n"
    }
   },
   "outputs": [],
   "source": [
    "from matplotlib import pyplot as plt\n",
    "import numpy as np"
   ]
  },
  {
   "cell_type": "code",
   "execution_count": 16,
   "id": "9ec9d464",
   "metadata": {
    "pycharm": {
     "name": "#%%\n"
    }
   },
   "outputs": [
    {
     "data": {
      "image/png": "[encoded data removed]",
      "text/plain": [
       "<Figure size 216x216 with 1 Axes>"
      ]
     },
     "metadata": {
      "needs_background": "light"
     },
     "output_type": "display_data"
    }
   ],
   "source": [
    "fig, ax = plt.subplots(figsize=(3,3))\n",
    "\n",
    "energies = np.array(nve_simulation.energies)\n",
    "dt = nve_simulation.report_interval * nve_simulation.integrator.time_step\n",
    "times = np.arange(len(energies))*dt\n",
    "ax.plot(times, energies[:,2,:])\n",
    "ax.set_xlim(0.0, times[-1])\n",
    "ax.set_xlabel(\"t [ps]\")\n",
    "ax.set_ylabel(\"Total Energy [kJ/mol]\")"
   ]
  },
  {
   "cell_type": "code",
   "execution_count": null,
   "id": "f48783e8",
   "metadata": {
    "pycharm": {
     "name": "#%%\n"
    }
   },
   "outputs": [],
   "source": []
  }
 ],
 "metadata": {
  "kernelspec": {
   "display_name": "Python 3 (ipykernel)",
   "language": "python",
   "name": "python3"
  },
  "language_info": {
   "codemirror_mode": {
    "name": "ipython",
    "version": 3
   },
   "file_extension": ".py",
   "mimetype": "text/x-python",
   "name": "python",
   "nbconvert_exporter": "python",
   "pygments_lexer": "ipython3",
   "version": "3.8.13"
  }
 },
 "nbformat": 4,
 "nbformat_minor": 5
}
